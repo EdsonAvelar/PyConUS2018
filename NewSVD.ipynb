{
 "cells": [
  {
   "cell_type": "code",
   "execution_count": 1,
   "metadata": {},
   "outputs": [],
   "source": [
    "\n",
    "import numpy as np\n",
    "import pandas as pd"
   ]
  },
  {
   "cell_type": "code",
   "execution_count": 3,
   "metadata": {},
   "outputs": [],
   "source": [
    "import pandas as pd\n",
    "import numpy as np\n",
    "from typing import *\n",
    "from IPython.display import display, HTML, Markdown\n",
    "\n",
    "import warnings\n",
    "warnings.filterwarnings('ignore')\n",
    "\n",
    "\n",
    "def display_best_and_worse_recommendations(recommendations: pd.DataFrame):\n",
    "    recommendations.sort_values('Estimated Prediction', ascending=False, inplace=True)\n",
    "\n",
    "    top_recommendations = recommendations.iloc[:10]\n",
    "    top_recommendations.columns = ['Prediction (sorted by best)', 'Movie Title']\n",
    "\n",
    "    worse_recommendations = recommendations.iloc[-10:]\n",
    "    worse_recommendations.columns = ['Prediction (sorted by worse)', 'Movie Title']\n",
    "\n",
    "    display(HTML(\"<h1>Recommendations your user will love</h1>\"))\n",
    "    display(top_recommendations)\n",
    "\n",
    "    display(HTML(\"<h1>Recommendations your user will hate</h1>\"))\n",
    "    display(worse_recommendations)\n",
    "    \n",
    "\n",
    "def load_movies_dataset() -> pd.DataFrame:\n",
    "    movie_data_columns = [\n",
    "    'movie_id', 'title', 'release_date', 'video_release_date', 'url',\n",
    "    'unknown', 'Action', 'Adventure', 'Animation', \"Children's\",\n",
    "    'Comedy', 'Crime', 'Documentary', 'Drama', 'Fantasy', 'Film-Noir',\n",
    "    'Horror', 'Musical', 'Mystery', 'Romance', 'Sci-Fi', 'Thriller',\n",
    "    'War', 'Western'\n",
    "    ]\n",
    "\n",
    "    movie_data = pd.read_csv(\n",
    "        'datasets/ml-100k/u.item', \n",
    "        sep = '|', \n",
    "        encoding = \"ISO-8859-1\", \n",
    "        header = None, \n",
    "        names = movie_data_columns,\n",
    "        index_col = 'movie_id'\n",
    "    )\n",
    "    movie_data['release_date'] = pd.to_datetime(movie_data['release_date'])\n",
    "    return movie_data\n",
    "\n",
    "def load_ratings() -> pd.DataFrame:\n",
    "    ratings_data = pd.read_csv(\n",
    "        'datasets/ml-100k/u.data',\n",
    "        sep = '\\t',\n",
    "        encoding = \"ISO-8859-1\",\n",
    "        header = None,\n",
    "        names=['user_id', 'movie_id', 'rating', 'timestamp']\n",
    "    )\n",
    "    return ratings_data[['user_id', 'movie_id', 'rating']]\n",
    "\n",
    "def load_ratings_with_name() -> pd.DataFrame:\n",
    "    ratings_data = load_ratings()\n",
    "    movies_data = load_movies_dataset()\n",
    "    ratings_data['user_id'] = ratings_data['user_id'].map(lambda k: f\"User {k}\")\n",
    "    \n",
    "    ratings_and_movies = ratings_data \\\n",
    "        .set_index('movie_id') \\\n",
    "        .join(movies_data['title']) \\\n",
    "        .reset_index()\n",
    "    \n",
    "    ratings_and_movies['movie_title'] = ratings_and_movies['title']\n",
    "    return ratings_and_movies[['user_id', 'movie_title', 'rating']].sample(frac=1)\n",
    "    "
   ]
  },
  {
   "cell_type": "code",
   "execution_count": 4,
   "metadata": {},
   "outputs": [],
   "source": [
    "ratings = load_ratings()"
   ]
  },
  {
   "cell_type": "code",
   "execution_count": 7,
   "metadata": {},
   "outputs": [
    {
     "data": {
      "text/plain": [
       "array([3, 3, 1, ..., 1, 2, 3])"
      ]
     },
     "execution_count": 7,
     "metadata": {},
     "output_type": "execute_result"
    }
   ],
   "source": [
    "ratings['rating'].values"
   ]
  },
  {
   "cell_type": "code",
   "execution_count": null,
   "metadata": {},
   "outputs": [],
   "source": []
  }
 ],
 "metadata": {
  "kernelspec": {
   "display_name": "Python 3",
   "language": "python",
   "name": "python3"
  },
  "language_info": {
   "codemirror_mode": {
    "name": "ipython",
    "version": 3
   },
   "file_extension": ".py",
   "mimetype": "text/x-python",
   "name": "python",
   "nbconvert_exporter": "python",
   "pygments_lexer": "ipython3",
   "version": "3.6.4"
  }
 },
 "nbformat": 4,
 "nbformat_minor": 2
}
